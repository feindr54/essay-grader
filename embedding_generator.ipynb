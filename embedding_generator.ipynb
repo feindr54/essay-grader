{
 "cells": [
  {
   "cell_type": "code",
   "execution_count": 1,
   "metadata": {},
   "outputs": [
    {
     "name": "stdout",
     "output_type": "stream",
     "text": [
      "Requirement already satisfied: pandas in /home/qi116/.venv/lib/python3.6/site-packages (1.1.5)\n",
      "Requirement already satisfied: python-dateutil>=2.7.3 in /home/qi116/.venv/lib/python3.6/site-packages (from pandas) (2.9.0.post0)\n",
      "Requirement already satisfied: numpy>=1.15.4 in /home/qi116/.venv/lib/python3.6/site-packages (from pandas) (1.19.5)\n",
      "Requirement already satisfied: pytz>=2017.2 in /home/qi116/.venv/lib/python3.6/site-packages (from pandas) (2024.1)\n",
      "Requirement already satisfied: six>=1.5 in /home/qi116/.venv/lib/python3.6/site-packages (from python-dateutil>=2.7.3->pandas) (1.15.0)\n",
      "Requirement already satisfied: tqdm in /home/qi116/.venv/lib/python3.6/site-packages (4.64.1)\n",
      "Requirement already satisfied: importlib-resources in /home/qi116/.venv/lib/python3.6/site-packages (from tqdm) (5.4.0)\n",
      "Requirement already satisfied: zipp>=3.1.0 in /home/qi116/.venv/lib/python3.6/site-packages (from importlib-resources->tqdm) (3.6.0)\n",
      "Requirement already satisfied: torch in /home/qi116/.venv/lib/python3.6/site-packages (1.10.2)\n",
      "Requirement already satisfied: dataclasses in /home/qi116/.venv/lib/python3.6/site-packages (from torch) (0.8)\n",
      "Requirement already satisfied: typing-extensions in /home/qi116/.venv/lib/python3.6/site-packages (from torch) (3.7.4.3)\n",
      "Requirement already satisfied: transformers in /home/qi116/.venv/lib/python3.6/site-packages (4.18.0)\n",
      "Requirement already satisfied: tqdm>=4.27 in /home/qi116/.venv/lib/python3.6/site-packages (from transformers) (4.64.1)\n",
      "Requirement already satisfied: requests in /home/qi116/.venv/lib/python3.6/site-packages (from transformers) (2.27.1)\n",
      "Requirement already satisfied: sacremoses in /home/qi116/.venv/lib/python3.6/site-packages (from transformers) (0.0.53)\n",
      "Requirement already satisfied: dataclasses in /home/qi116/.venv/lib/python3.6/site-packages (from transformers) (0.8)\n",
      "Requirement already satisfied: filelock in /home/qi116/.venv/lib/python3.6/site-packages (from transformers) (3.4.1)\n",
      "Requirement already satisfied: tokenizers!=0.11.3,<0.13,>=0.11.1 in /home/qi116/.venv/lib/python3.6/site-packages (from transformers) (0.12.1)\n",
      "Requirement already satisfied: pyyaml>=5.1 in /home/qi116/.venv/lib/python3.6/site-packages (from transformers) (6.0.1)\n",
      "Requirement already satisfied: regex!=2019.12.17 in /home/qi116/.venv/lib/python3.6/site-packages (from transformers) (2023.8.8)\n",
      "Requirement already satisfied: numpy>=1.17 in /home/qi116/.venv/lib/python3.6/site-packages (from transformers) (1.19.5)\n",
      "Requirement already satisfied: importlib-metadata in /home/qi116/.venv/lib/python3.6/site-packages (from transformers) (4.8.3)\n",
      "Requirement already satisfied: huggingface-hub<1.0,>=0.1.0 in /home/qi116/.venv/lib/python3.6/site-packages (from transformers) (0.4.0)\n",
      "Requirement already satisfied: packaging>=20.0 in /home/qi116/.venv/lib/python3.6/site-packages (from transformers) (21.3)\n",
      "Requirement already satisfied: typing-extensions>=3.7.4.3 in /home/qi116/.venv/lib/python3.6/site-packages (from huggingface-hub<1.0,>=0.1.0->transformers) (3.7.4.3)\n",
      "Requirement already satisfied: pyparsing!=3.0.5,>=2.0.2 in /home/qi116/.venv/lib/python3.6/site-packages (from packaging>=20.0->transformers) (3.1.2)\n",
      "Requirement already satisfied: importlib-resources in /home/qi116/.venv/lib/python3.6/site-packages (from tqdm>=4.27->transformers) (5.4.0)\n",
      "Requirement already satisfied: zipp>=0.5 in /home/qi116/.venv/lib/python3.6/site-packages (from importlib-metadata->transformers) (3.6.0)\n",
      "Requirement already satisfied: urllib3<1.27,>=1.21.1 in /home/qi116/.venv/lib/python3.6/site-packages (from requests->transformers) (1.26.18)\n",
      "Requirement already satisfied: idna<4,>=2.5 in /home/qi116/.venv/lib/python3.6/site-packages (from requests->transformers) (3.6)\n",
      "Requirement already satisfied: certifi>=2017.4.17 in /home/qi116/.venv/lib/python3.6/site-packages (from requests->transformers) (2024.2.2)\n",
      "Requirement already satisfied: charset-normalizer~=2.0.0 in /home/qi116/.venv/lib/python3.6/site-packages (from requests->transformers) (2.0.12)\n",
      "Requirement already satisfied: six in /home/qi116/.venv/lib/python3.6/site-packages (from sacremoses->transformers) (1.15.0)\n",
      "Requirement already satisfied: click in /home/qi116/.venv/lib/python3.6/site-packages (from sacremoses->transformers) (8.0.4)\n",
      "Requirement already satisfied: joblib in /home/qi116/.venv/lib/python3.6/site-packages (from sacremoses->transformers) (1.1.1)\n",
      "Requirement already satisfied: keras in /home/qi116/.venv/lib/python3.6/site-packages (2.6.0)\n",
      "Requirement already satisfied: tensorflow in /home/qi116/.venv/lib/python3.6/site-packages (2.6.2)\n",
      "Requirement already satisfied: keras-preprocessing~=1.1.2 in /home/qi116/.venv/lib/python3.6/site-packages (from tensorflow) (1.1.2)\n",
      "Requirement already satisfied: grpcio<2.0,>=1.37.0 in /home/qi116/.venv/lib/python3.6/site-packages (from tensorflow) (1.48.2)\n",
      "Requirement already satisfied: absl-py~=0.10 in /home/qi116/.venv/lib/python3.6/site-packages (from tensorflow) (0.15.0)\n",
      "Requirement already satisfied: h5py~=3.1.0 in /home/qi116/.venv/lib/python3.6/site-packages (from tensorflow) (3.1.0)\n",
      "Requirement already satisfied: opt-einsum~=3.3.0 in /home/qi116/.venv/lib/python3.6/site-packages (from tensorflow) (3.3.0)\n",
      "Requirement already satisfied: six~=1.15.0 in /home/qi116/.venv/lib/python3.6/site-packages (from tensorflow) (1.15.0)\n",
      "Requirement already satisfied: numpy~=1.19.2 in /home/qi116/.venv/lib/python3.6/site-packages (from tensorflow) (1.19.5)\n",
      "Requirement already satisfied: flatbuffers~=1.12.0 in /home/qi116/.venv/lib/python3.6/site-packages (from tensorflow) (1.12)\n",
      "Requirement already satisfied: termcolor~=1.1.0 in /home/qi116/.venv/lib/python3.6/site-packages (from tensorflow) (1.1.0)\n",
      "Requirement already satisfied: typing-extensions~=3.7.4 in /home/qi116/.venv/lib/python3.6/site-packages (from tensorflow) (3.7.4.3)\n",
      "Requirement already satisfied: wheel~=0.35 in /home/qi116/.venv/lib/python3.6/site-packages (from tensorflow) (0.37.1)\n",
      "Requirement already satisfied: wrapt~=1.12.1 in /home/qi116/.venv/lib/python3.6/site-packages (from tensorflow) (1.12.1)\n",
      "Requirement already satisfied: gast==0.4.0 in /home/qi116/.venv/lib/python3.6/site-packages (from tensorflow) (0.4.0)\n",
      "Requirement already satisfied: tensorboard<2.7,>=2.6.0 in /home/qi116/.venv/lib/python3.6/site-packages (from tensorflow) (2.6.0)\n",
      "Requirement already satisfied: tensorflow-estimator<2.7,>=2.6.0 in /home/qi116/.venv/lib/python3.6/site-packages (from tensorflow) (2.6.0)\n",
      "Requirement already satisfied: keras<2.7,>=2.6.0 in /home/qi116/.venv/lib/python3.6/site-packages (from tensorflow) (2.6.0)\n",
      "Requirement already satisfied: astunparse~=1.6.3 in /home/qi116/.venv/lib/python3.6/site-packages (from tensorflow) (1.6.3)\n",
      "Requirement already satisfied: clang~=5.0 in /home/qi116/.venv/lib/python3.6/site-packages (from tensorflow) (5.0)\n",
      "Requirement already satisfied: protobuf>=3.9.2 in /home/qi116/.venv/lib/python3.6/site-packages (from tensorflow) (3.19.6)\n",
      "Requirement already satisfied: google-pasta~=0.2 in /home/qi116/.venv/lib/python3.6/site-packages (from tensorflow) (0.2.0)\n",
      "Requirement already satisfied: cached-property in /home/qi116/.venv/lib/python3.6/site-packages (from h5py~=3.1.0->tensorflow) (1.5.2)\n",
      "Requirement already satisfied: requests<3,>=2.21.0 in /home/qi116/.venv/lib/python3.6/site-packages (from tensorboard<2.7,>=2.6.0->tensorflow) (2.27.1)\n",
      "Requirement already satisfied: google-auth-oauthlib<0.5,>=0.4.1 in /home/qi116/.venv/lib/python3.6/site-packages (from tensorboard<2.7,>=2.6.0->tensorflow) (0.4.6)\n",
      "Requirement already satisfied: setuptools>=41.0.0 in /home/qi116/.venv/lib/python3.6/site-packages (from tensorboard<2.7,>=2.6.0->tensorflow) (59.6.0)\n",
      "Requirement already satisfied: werkzeug>=0.11.15 in /home/qi116/.venv/lib/python3.6/site-packages (from tensorboard<2.7,>=2.6.0->tensorflow) (2.0.3)\n",
      "Requirement already satisfied: tensorboard-plugin-wit>=1.6.0 in /home/qi116/.venv/lib/python3.6/site-packages (from tensorboard<2.7,>=2.6.0->tensorflow) (1.8.1)\n",
      "Requirement already satisfied: google-auth<2,>=1.6.3 in /home/qi116/.venv/lib/python3.6/site-packages (from tensorboard<2.7,>=2.6.0->tensorflow) (1.35.0)\n",
      "Requirement already satisfied: tensorboard-data-server<0.7.0,>=0.6.0 in /home/qi116/.venv/lib/python3.6/site-packages (from tensorboard<2.7,>=2.6.0->tensorflow) (0.6.1)\n",
      "Requirement already satisfied: markdown>=2.6.8 in /home/qi116/.venv/lib/python3.6/site-packages (from tensorboard<2.7,>=2.6.0->tensorflow) (3.3.7)\n",
      "Requirement already satisfied: cachetools<5.0,>=2.0.0 in /home/qi116/.venv/lib/python3.6/site-packages (from google-auth<2,>=1.6.3->tensorboard<2.7,>=2.6.0->tensorflow) (4.2.4)\n",
      "Requirement already satisfied: rsa<5,>=3.1.4 in /home/qi116/.venv/lib/python3.6/site-packages (from google-auth<2,>=1.6.3->tensorboard<2.7,>=2.6.0->tensorflow) (4.9)\n",
      "Requirement already satisfied: pyasn1-modules>=0.2.1 in /home/qi116/.venv/lib/python3.6/site-packages (from google-auth<2,>=1.6.3->tensorboard<2.7,>=2.6.0->tensorflow) (0.3.0)\n",
      "Requirement already satisfied: requests-oauthlib>=0.7.0 in /home/qi116/.venv/lib/python3.6/site-packages (from google-auth-oauthlib<0.5,>=0.4.1->tensorboard<2.7,>=2.6.0->tensorflow) (2.0.0)\n",
      "Requirement already satisfied: importlib-metadata>=4.4 in /home/qi116/.venv/lib/python3.6/site-packages (from markdown>=2.6.8->tensorboard<2.7,>=2.6.0->tensorflow) (4.8.3)\n",
      "Requirement already satisfied: certifi>=2017.4.17 in /home/qi116/.venv/lib/python3.6/site-packages (from requests<3,>=2.21.0->tensorboard<2.7,>=2.6.0->tensorflow) (2024.2.2)\n",
      "Requirement already satisfied: charset-normalizer~=2.0.0 in /home/qi116/.venv/lib/python3.6/site-packages (from requests<3,>=2.21.0->tensorboard<2.7,>=2.6.0->tensorflow) (2.0.12)\n",
      "Requirement already satisfied: urllib3<1.27,>=1.21.1 in /home/qi116/.venv/lib/python3.6/site-packages (from requests<3,>=2.21.0->tensorboard<2.7,>=2.6.0->tensorflow) (1.26.18)\n",
      "Requirement already satisfied: idna<4,>=2.5 in /home/qi116/.venv/lib/python3.6/site-packages (from requests<3,>=2.21.0->tensorboard<2.7,>=2.6.0->tensorflow) (3.6)\n",
      "Requirement already satisfied: dataclasses in /home/qi116/.venv/lib/python3.6/site-packages (from werkzeug>=0.11.15->tensorboard<2.7,>=2.6.0->tensorflow) (0.8)\n",
      "Requirement already satisfied: zipp>=0.5 in /home/qi116/.venv/lib/python3.6/site-packages (from importlib-metadata>=4.4->markdown>=2.6.8->tensorboard<2.7,>=2.6.0->tensorflow) (3.6.0)\n",
      "Requirement already satisfied: pyasn1<0.6.0,>=0.4.6 in /home/qi116/.venv/lib/python3.6/site-packages (from pyasn1-modules>=0.2.1->google-auth<2,>=1.6.3->tensorboard<2.7,>=2.6.0->tensorflow) (0.5.1)\n",
      "Requirement already satisfied: oauthlib>=3.0.0 in /home/qi116/.venv/lib/python3.6/site-packages (from requests-oauthlib>=0.7.0->google-auth-oauthlib<0.5,>=0.4.1->tensorboard<2.7,>=2.6.0->tensorflow) (3.2.2)\n",
      "Requirement already satisfied: sklearn in /home/qi116/.venv/lib/python3.6/site-packages (0.0)\n",
      "Requirement already satisfied: scikit-learn in /home/qi116/.venv/lib/python3.6/site-packages (from sklearn) (0.24.2)\n",
      "Requirement already satisfied: threadpoolctl>=2.0.0 in /home/qi116/.venv/lib/python3.6/site-packages (from scikit-learn->sklearn) (3.1.0)\n",
      "Requirement already satisfied: scipy>=0.19.1 in /home/qi116/.venv/lib/python3.6/site-packages (from scikit-learn->sklearn) (1.5.4)\n",
      "Requirement already satisfied: joblib>=0.11 in /home/qi116/.venv/lib/python3.6/site-packages (from scikit-learn->sklearn) (1.1.1)\n",
      "Requirement already satisfied: numpy>=1.13.3 in /home/qi116/.venv/lib/python3.6/site-packages (from scikit-learn->sklearn) (1.19.5)\n",
      "Requirement already satisfied: pyspellchecker in /home/qi116/.venv/lib/python3.6/site-packages (0.8.0)\n",
      "Requirement already satisfied: language-tool-python in /home/qi116/.venv/lib/python3.6/site-packages (2.7.3)\n",
      "Requirement already satisfied: requests in /home/qi116/.venv/lib/python3.6/site-packages (from language-tool-python) (2.27.1)\n",
      "Requirement already satisfied: tqdm in /home/qi116/.venv/lib/python3.6/site-packages (from language-tool-python) (4.64.1)\n",
      "Requirement already satisfied: idna<4,>=2.5 in /home/qi116/.venv/lib/python3.6/site-packages (from requests->language-tool-python) (3.6)\n",
      "Requirement already satisfied: urllib3<1.27,>=1.21.1 in /home/qi116/.venv/lib/python3.6/site-packages (from requests->language-tool-python) (1.26.18)\n",
      "Requirement already satisfied: charset-normalizer~=2.0.0 in /home/qi116/.venv/lib/python3.6/site-packages (from requests->language-tool-python) (2.0.12)\n",
      "Requirement already satisfied: certifi>=2017.4.17 in /home/qi116/.venv/lib/python3.6/site-packages (from requests->language-tool-python) (2024.2.2)\n",
      "Requirement already satisfied: importlib-resources in /home/qi116/.venv/lib/python3.6/site-packages (from tqdm->language-tool-python) (5.4.0)\n",
      "Requirement already satisfied: zipp>=3.1.0 in /home/qi116/.venv/lib/python3.6/site-packages (from importlib-resources->tqdm->language-tool-python) (3.6.0)\n",
      "Requirement already satisfied: nltk in /home/qi116/.venv/lib/python3.6/site-packages (3.6.7)\n",
      "Requirement already satisfied: click in /home/qi116/.venv/lib/python3.6/site-packages (from nltk) (8.0.4)\n",
      "Requirement already satisfied: tqdm in /home/qi116/.venv/lib/python3.6/site-packages (from nltk) (4.64.1)\n",
      "Requirement already satisfied: joblib in /home/qi116/.venv/lib/python3.6/site-packages (from nltk) (1.1.1)\n",
      "Requirement already satisfied: regex>=2021.8.3 in /home/qi116/.venv/lib/python3.6/site-packages (from nltk) (2023.8.8)\n",
      "Requirement already satisfied: importlib-metadata in /home/qi116/.venv/lib/python3.6/site-packages (from click->nltk) (4.8.3)\n",
      "Requirement already satisfied: importlib-resources in /home/qi116/.venv/lib/python3.6/site-packages (from tqdm->nltk) (5.4.0)\n",
      "Requirement already satisfied: zipp>=0.5 in /home/qi116/.venv/lib/python3.6/site-packages (from importlib-metadata->click->nltk) (3.6.0)\n",
      "Requirement already satisfied: typing-extensions>=3.6.4 in /home/qi116/.venv/lib/python3.6/site-packages (from importlib-metadata->click->nltk) (3.7.4.3)\n",
      "Requirement already satisfied: matplotlib in /home/qi116/.venv/lib/python3.6/site-packages (3.3.4)\n",
      "Requirement already satisfied: pillow>=6.2.0 in /home/qi116/.venv/lib/python3.6/site-packages (from matplotlib) (8.4.0)\n",
      "Requirement already satisfied: cycler>=0.10 in /home/qi116/.venv/lib/python3.6/site-packages (from matplotlib) (0.11.0)\n",
      "Requirement already satisfied: kiwisolver>=1.0.1 in /home/qi116/.venv/lib/python3.6/site-packages (from matplotlib) (1.3.1)\n",
      "Requirement already satisfied: numpy>=1.15 in /home/qi116/.venv/lib/python3.6/site-packages (from matplotlib) (1.19.5)\n",
      "Requirement already satisfied: pyparsing!=2.0.4,!=2.1.2,!=2.1.6,>=2.0.3 in /home/qi116/.venv/lib/python3.6/site-packages (from matplotlib) (3.1.2)\n",
      "Requirement already satisfied: python-dateutil>=2.1 in /home/qi116/.venv/lib/python3.6/site-packages (from matplotlib) (2.9.0.post0)\n",
      "Requirement already satisfied: six>=1.5 in /home/qi116/.venv/lib/python3.6/site-packages (from python-dateutil>=2.1->matplotlib) (1.15.0)\n"
     ]
    }
   ],
   "source": [
    "#Installations\n",
    "!pip install pandas\n",
    "!pip install tqdm\n",
    "!pip install torch\n",
    "!pip install transformers\n",
    "!pip install keras\n",
    "!pip install tensorflow\n",
    "!pip install sklearn\n",
    "!pip install pyspellchecker\n",
    "!pip install language-tool-python\n",
    "!pip install nltk\n",
    "!pip install matplotlib"
   ]
  },
  {
   "cell_type": "code",
   "execution_count": 2,
   "metadata": {},
   "outputs": [],
   "source": [
    "import warnings\n",
    "import pandas as pd\n",
    "import numpy as np\n",
    "from tqdm import tqdm\n",
    "import os\n",
    "\n",
    "import torch\n",
    "import transformers\n",
    "from keras.preprocessing.sequence import pad_sequences\n",
    "from transformers import BertTokenizer, AutoModelForSequenceClassification, BertModel\n",
    "\n",
    "from sklearn.metrics.pairwise import cosine_similarity\n",
    "from spellchecker import SpellChecker\n",
    "\n",
    "import nltk\n",
    "from nltk.corpus import stopwords\n",
    "from nltk.tokenize import word_tokenize\n",
    "import language_tool_python"
   ]
  },
  {
   "cell_type": "code",
   "execution_count": 3,
   "metadata": {},
   "outputs": [
    {
     "name": "stdout",
     "output_type": "stream",
     "text": [
      "naval\n",
      "{'navar', 'lavabo', 'naval'}\n",
      "happening\n",
      "{'happening', 'penning', 'japanning'}\n"
     ]
    }
   ],
   "source": [
    "spell = SpellChecker()\n",
    "\n",
    "misspelled = spell.unknown(['navajo', 'is', 'hapenning', 'here'])\n",
    "\n",
    "for word in misspelled:\n",
    "    # Get the one `most likely` answer\n",
    "    print(spell.correction(word))\n",
    "\n",
    "    # Get a list of `likely` options\n",
    "    print(spell.candidates(word))"
   ]
  },
  {
   "cell_type": "code",
   "execution_count": 4,
   "metadata": {},
   "outputs": [
    {
     "name": "stderr",
     "output_type": "stream",
     "text": [
      "[nltk_data] Downloading package stopwords to /home/qi116/nltk_data...\n",
      "[nltk_data]   Package stopwords is already up-to-date!\n",
      "[nltk_data] Downloading package punkt to /home/qi116/nltk_data...\n",
      "[nltk_data]   Package punkt is already up-to-date!\n"
     ]
    },
    {
     "data": {
      "text/plain": [
       "True"
      ]
     },
     "execution_count": 4,
     "metadata": {},
     "output_type": "execute_result"
    }
   ],
   "source": [
    "nltk.download('stopwords')\n",
    "nltk.download('punkt')"
   ]
  },
  {
   "cell_type": "code",
   "execution_count": 5,
   "metadata": {},
   "outputs": [
    {
     "name": "stdout",
     "output_type": "stream",
     "text": [
      "['This', 'is', 'a', 'sample', 'sentence', ',', 'showing', 'off', 'the', 'stop', 'words', 'filtration', '.']\n",
      "['This', 'sample', 'sentence', ',', 'showing', 'stop', 'words', 'filtration', '.']\n"
     ]
    }
   ],
   "source": [
    "example_sent = \"\"\"This is a sample sentence,\n",
    "                  showing off the stop words filtration.\"\"\"\n",
    " \n",
    "\n",
    "stop_words = set(stopwords.words('english'))\n",
    " \n",
    "word_tokens = word_tokenize(example_sent)\n",
    "# converts the words in word_tokens to lower case and then checks whether \n",
    "#they are present in stop_words or not\n",
    "filtered_sentence = [w for w in word_tokens if not w.lower() in stop_words]\n",
    "#with no lower case conversion\n",
    "filtered_sentence = []\n",
    " \n",
    "for w in word_tokens:\n",
    "    if w not in stop_words:\n",
    "        filtered_sentence.append(w)\n",
    " \n",
    "print(word_tokens)\n",
    "print(filtered_sentence)\n"
   ]
  },
  {
   "cell_type": "code",
   "execution_count": 6,
   "metadata": {},
   "outputs": [],
   "source": [
    "\n",
    "tool = language_tool_python.LanguageTool('en-US')"
   ]
  },
  {
   "cell_type": "code",
   "execution_count": 7,
   "metadata": {},
   "outputs": [
    {
     "name": "stdout",
     "output_type": "stream",
     "text": [
      "\n",
      "He eats the food. I am the man. Please help he. I cannot do them\n",
      "\n"
     ]
    }
   ],
   "source": [
    "\n",
    "mytext = \"\"\"\n",
    "He eat the food. I is the man. Pleae help he. I canot do them\n",
    "\"\"\"\n",
    "\n",
    "\n",
    "output_data = tool.correct(mytext)\n",
    "print(output_data)"
   ]
  },
  {
   "cell_type": "code",
   "execution_count": 8,
   "metadata": {},
   "outputs": [],
   "source": [
    "import logging\n",
    "\n",
    "import matplotlib.pyplot as plt\n",
    "%matplotlib inline\n",
    "\n",
    "tokenizer = BertTokenizer.from_pretrained('bert-base-uncased')\n",
    "# Load the tokenizer for the pre-trained model"
   ]
  },
  {
   "cell_type": "code",
   "execution_count": 9,
   "metadata": {},
   "outputs": [
    {
     "name": "stderr",
     "output_type": "stream",
     "text": [
      "Truncation was not explicitly activated but `max_length` is provided a specific value, please use `truncation=True` to explicitly truncate examples to max length. Defaulting to 'longest_first' truncation strategy. If you encode pairs of sequences (GLUE-style) with the tokenizer you can select this strategy more precisely by providing a specific strategy to `truncation`.\n",
      "/home/qi116/.venv/lib64/python3.6/site-packages/transformers/tokenization_utils_base.py:2269: FutureWarning: The `pad_to_max_length` argument is deprecated and will be removed in a future version, use `padding=True` or `padding='longest'` to pad to the longest sequence in the batch, or use `padding='max_length'` to pad to a max length. In this case, you can give a specific length with `max_length` (e.g. `max_length=45`) or leave max_length to None to pad to the maximal input size of the model (e.g. 512 for Bert).\n",
      "  FutureWarning,\n"
     ]
    }
   ],
   "source": [
    "input_ids = []\n",
    "attention_masks = []\n",
    "\n",
    "sentences = ['Hi, I am joe.', 'Hello, Bill.', 'Testing sentence with my sentence']\n",
    "\n",
    "# For each sentence...\n",
    "for sentence in sentences:\n",
    "    encoded_dict = tokenizer.encode_plus(\n",
    "                        sentence,                  \n",
    "                        add_special_tokens=True,   # Add '[CLS]' and '[SEP]'\n",
    "                        max_length=64,             # Adjust sentence length\n",
    "                        pad_to_max_length=True,    # Pad/truncate sentences\n",
    "                        return_attention_mask=True,# Generate attention masks\n",
    "                        return_tensors='pt',       # Return PyTorch tensors\n",
    "                   )\n",
    "    \n",
    "   \n",
    "    input_ids.append(encoded_dict['input_ids'])\n",
    "    \n",
    "    # Construct an attention mask (identifying padding/non-padding).\n",
    "    attention_masks.append(encoded_dict['attention_mask'])"
   ]
  },
  {
   "cell_type": "code",
   "execution_count": 13,
   "metadata": {},
   "outputs": [
    {
     "name": "stderr",
     "output_type": "stream",
     "text": [
      "/home/qi116/.venv/lib64/python3.6/site-packages/transformers/tokenization_utils_base.py:2269: FutureWarning: The `pad_to_max_length` argument is deprecated and will be removed in a future version, use `padding=True` or `padding='longest'` to pad to the longest sequence in the batch, or use `padding='max_length'` to pad to a max length. In this case, you can give a specific length with `max_length` (e.g. `max_length=45`) or leave max_length to None to pad to the maximal input size of the model (e.g. 512 for Bert).\n",
      "  FutureWarning,\n"
     ]
    }
   ],
   "source": [
    "input_ids2 = []\n",
    "attention_masks2 = []\n",
    "\n",
    "sentences = ['Hi, he is Billy.', 'Hello, John.', 'Testing sentence with my sentence']\n",
    "\n",
    "# For each sentence...\n",
    "for sentence in sentences:\n",
    "    encoded_dict = tokenizer.encode_plus(\n",
    "                        sentence,                  \n",
    "                        add_special_tokens=True,   # Add '[CLS]' and '[SEP]'\n",
    "                        max_length=64,             # Adjust sentence length\n",
    "                        pad_to_max_length=True,    # Pad/truncate sentences\n",
    "                        return_attention_mask=True,# Generate attention masks\n",
    "                        return_tensors='pt',       # Return PyTorch tensors\n",
    "                   )\n",
    "    \n",
    "   \n",
    "    input_ids2.append(encoded_dict['input_ids'])\n",
    "    \n",
    "    # Construct an attention mask (identifying padding/non-padding).\n",
    "    attention_masks2.append(encoded_dict['attention_mask'])"
   ]
  },
  {
   "cell_type": "code",
   "execution_count": 14,
   "metadata": {},
   "outputs": [
    {
     "ename": "ValueError",
     "evalue": "only one element tensors can be converted to Python scalars",
     "output_type": "error",
     "traceback": [
      "\u001b[0;31m---------------------------------------------------------------------------\u001b[0m",
      "\u001b[0;31mValueError\u001b[0m                                Traceback (most recent call last)",
      "\u001b[0;32m<ipython-input-14-230ee1727616>\u001b[0m in \u001b[0;36m<module>\u001b[0;34m\u001b[0m\n\u001b[0;32m----> 1\u001b[0;31m \u001b[0mcosine_similarity\u001b[0m\u001b[0;34m(\u001b[0m\u001b[0minput_ids\u001b[0m\u001b[0;34m,\u001b[0m \u001b[0minput_ids2\u001b[0m\u001b[0;34m)\u001b[0m\u001b[0;34m\u001b[0m\u001b[0;34m\u001b[0m\u001b[0m\n\u001b[0m",
      "\u001b[0;32m~/.venv/lib64/python3.6/site-packages/sklearn/metrics/pairwise.py\u001b[0m in \u001b[0;36mcosine_similarity\u001b[0;34m(X, Y, dense_output)\u001b[0m\n\u001b[1;32m   1178\u001b[0m     \u001b[0;31m# to avoid recursive import\u001b[0m\u001b[0;34m\u001b[0m\u001b[0;34m\u001b[0m\u001b[0;34m\u001b[0m\u001b[0m\n\u001b[1;32m   1179\u001b[0m \u001b[0;34m\u001b[0m\u001b[0m\n\u001b[0;32m-> 1180\u001b[0;31m     \u001b[0mX\u001b[0m\u001b[0;34m,\u001b[0m \u001b[0mY\u001b[0m \u001b[0;34m=\u001b[0m \u001b[0mcheck_pairwise_arrays\u001b[0m\u001b[0;34m(\u001b[0m\u001b[0mX\u001b[0m\u001b[0;34m,\u001b[0m \u001b[0mY\u001b[0m\u001b[0;34m)\u001b[0m\u001b[0;34m\u001b[0m\u001b[0;34m\u001b[0m\u001b[0m\n\u001b[0m\u001b[1;32m   1181\u001b[0m \u001b[0;34m\u001b[0m\u001b[0m\n\u001b[1;32m   1182\u001b[0m     \u001b[0mX_normalized\u001b[0m \u001b[0;34m=\u001b[0m \u001b[0mnormalize\u001b[0m\u001b[0;34m(\u001b[0m\u001b[0mX\u001b[0m\u001b[0;34m,\u001b[0m \u001b[0mcopy\u001b[0m\u001b[0;34m=\u001b[0m\u001b[0;32mTrue\u001b[0m\u001b[0;34m)\u001b[0m\u001b[0;34m\u001b[0m\u001b[0;34m\u001b[0m\u001b[0m\n",
      "\u001b[0;32m~/.venv/lib64/python3.6/site-packages/sklearn/utils/validation.py\u001b[0m in \u001b[0;36minner_f\u001b[0;34m(*args, **kwargs)\u001b[0m\n\u001b[1;32m     61\u001b[0m             \u001b[0mextra_args\u001b[0m \u001b[0;34m=\u001b[0m \u001b[0mlen\u001b[0m\u001b[0;34m(\u001b[0m\u001b[0margs\u001b[0m\u001b[0;34m)\u001b[0m \u001b[0;34m-\u001b[0m \u001b[0mlen\u001b[0m\u001b[0;34m(\u001b[0m\u001b[0mall_args\u001b[0m\u001b[0;34m)\u001b[0m\u001b[0;34m\u001b[0m\u001b[0;34m\u001b[0m\u001b[0m\n\u001b[1;32m     62\u001b[0m             \u001b[0;32mif\u001b[0m \u001b[0mextra_args\u001b[0m \u001b[0;34m<=\u001b[0m \u001b[0;36m0\u001b[0m\u001b[0;34m:\u001b[0m\u001b[0;34m\u001b[0m\u001b[0;34m\u001b[0m\u001b[0m\n\u001b[0;32m---> 63\u001b[0;31m                 \u001b[0;32mreturn\u001b[0m \u001b[0mf\u001b[0m\u001b[0;34m(\u001b[0m\u001b[0;34m*\u001b[0m\u001b[0margs\u001b[0m\u001b[0;34m,\u001b[0m \u001b[0;34m**\u001b[0m\u001b[0mkwargs\u001b[0m\u001b[0;34m)\u001b[0m\u001b[0;34m\u001b[0m\u001b[0;34m\u001b[0m\u001b[0m\n\u001b[0m\u001b[1;32m     64\u001b[0m \u001b[0;34m\u001b[0m\u001b[0m\n\u001b[1;32m     65\u001b[0m             \u001b[0;31m# extra_args > 0\u001b[0m\u001b[0;34m\u001b[0m\u001b[0;34m\u001b[0m\u001b[0;34m\u001b[0m\u001b[0m\n",
      "\u001b[0;32m~/.venv/lib64/python3.6/site-packages/sklearn/metrics/pairwise.py\u001b[0m in \u001b[0;36mcheck_pairwise_arrays\u001b[0;34m(X, Y, precomputed, dtype, accept_sparse, force_all_finite, copy)\u001b[0m\n\u001b[1;32m    133\u001b[0m \u001b[0;34m\u001b[0m\u001b[0m\n\u001b[1;32m    134\u001b[0m     \"\"\"\n\u001b[0;32m--> 135\u001b[0;31m     \u001b[0mX\u001b[0m\u001b[0;34m,\u001b[0m \u001b[0mY\u001b[0m\u001b[0;34m,\u001b[0m \u001b[0mdtype_float\u001b[0m \u001b[0;34m=\u001b[0m \u001b[0m_return_float_dtype\u001b[0m\u001b[0;34m(\u001b[0m\u001b[0mX\u001b[0m\u001b[0;34m,\u001b[0m \u001b[0mY\u001b[0m\u001b[0;34m)\u001b[0m\u001b[0;34m\u001b[0m\u001b[0;34m\u001b[0m\u001b[0m\n\u001b[0m\u001b[1;32m    136\u001b[0m \u001b[0;34m\u001b[0m\u001b[0m\n\u001b[1;32m    137\u001b[0m     \u001b[0mestimator\u001b[0m \u001b[0;34m=\u001b[0m \u001b[0;34m'check_pairwise_arrays'\u001b[0m\u001b[0;34m\u001b[0m\u001b[0;34m\u001b[0m\u001b[0m\n",
      "\u001b[0;32m~/.venv/lib64/python3.6/site-packages/sklearn/metrics/pairwise.py\u001b[0m in \u001b[0;36m_return_float_dtype\u001b[0;34m(X, Y)\u001b[0m\n\u001b[1;32m     44\u001b[0m     \"\"\"\n\u001b[1;32m     45\u001b[0m     \u001b[0;32mif\u001b[0m \u001b[0;32mnot\u001b[0m \u001b[0missparse\u001b[0m\u001b[0;34m(\u001b[0m\u001b[0mX\u001b[0m\u001b[0;34m)\u001b[0m \u001b[0;32mand\u001b[0m \u001b[0;32mnot\u001b[0m \u001b[0misinstance\u001b[0m\u001b[0;34m(\u001b[0m\u001b[0mX\u001b[0m\u001b[0;34m,\u001b[0m \u001b[0mnp\u001b[0m\u001b[0;34m.\u001b[0m\u001b[0mndarray\u001b[0m\u001b[0;34m)\u001b[0m\u001b[0;34m:\u001b[0m\u001b[0;34m\u001b[0m\u001b[0;34m\u001b[0m\u001b[0m\n\u001b[0;32m---> 46\u001b[0;31m         \u001b[0mX\u001b[0m \u001b[0;34m=\u001b[0m \u001b[0mnp\u001b[0m\u001b[0;34m.\u001b[0m\u001b[0masarray\u001b[0m\u001b[0;34m(\u001b[0m\u001b[0mX\u001b[0m\u001b[0;34m)\u001b[0m\u001b[0;34m\u001b[0m\u001b[0;34m\u001b[0m\u001b[0m\n\u001b[0m\u001b[1;32m     47\u001b[0m \u001b[0;34m\u001b[0m\u001b[0m\n\u001b[1;32m     48\u001b[0m     \u001b[0;32mif\u001b[0m \u001b[0mY\u001b[0m \u001b[0;32mis\u001b[0m \u001b[0;32mNone\u001b[0m\u001b[0;34m:\u001b[0m\u001b[0;34m\u001b[0m\u001b[0;34m\u001b[0m\u001b[0m\n",
      "\u001b[0;32m~/.venv/lib64/python3.6/site-packages/numpy/core/_asarray.py\u001b[0m in \u001b[0;36masarray\u001b[0;34m(a, dtype, order)\u001b[0m\n\u001b[1;32m     81\u001b[0m \u001b[0;34m\u001b[0m\u001b[0m\n\u001b[1;32m     82\u001b[0m     \"\"\"\n\u001b[0;32m---> 83\u001b[0;31m     \u001b[0;32mreturn\u001b[0m \u001b[0marray\u001b[0m\u001b[0;34m(\u001b[0m\u001b[0ma\u001b[0m\u001b[0;34m,\u001b[0m \u001b[0mdtype\u001b[0m\u001b[0;34m,\u001b[0m \u001b[0mcopy\u001b[0m\u001b[0;34m=\u001b[0m\u001b[0;32mFalse\u001b[0m\u001b[0;34m,\u001b[0m \u001b[0morder\u001b[0m\u001b[0;34m=\u001b[0m\u001b[0morder\u001b[0m\u001b[0;34m)\u001b[0m\u001b[0;34m\u001b[0m\u001b[0;34m\u001b[0m\u001b[0m\n\u001b[0m\u001b[1;32m     84\u001b[0m \u001b[0;34m\u001b[0m\u001b[0m\n\u001b[1;32m     85\u001b[0m \u001b[0;34m\u001b[0m\u001b[0m\n",
      "\u001b[0;31mValueError\u001b[0m: only one element tensors can be converted to Python scalars"
     ]
    }
   ],
   "source": [
    "cosine_similarity(input_ids, input_ids2)"
   ]
  }
 ],
 "metadata": {
  "kernelspec": {
   "display_name": ".venv",
   "language": "python",
   "name": "python3"
  },
  "language_info": {
   "codemirror_mode": {
    "name": "ipython",
    "version": 3
   },
   "file_extension": ".py",
   "mimetype": "text/x-python",
   "name": "python",
   "nbconvert_exporter": "python",
   "pygments_lexer": "ipython3",
   "version": "3.6.8"
  }
 },
 "nbformat": 4,
 "nbformat_minor": 2
}
